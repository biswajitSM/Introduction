{
 "cells": [
  {
   "cell_type": "code",
   "execution_count": 1,
   "metadata": {
    "ExecuteTime": {
     "end_time": "2017-12-16T22:41:45.306563Z",
     "start_time": "2017-12-16T22:41:44.181672Z"
    },
    "code_folding": [
     0
    ],
    "collapsed": true
   },
   "outputs": [],
   "source": [
    "#Import modules\n",
    "import numpy as np\n",
    "import pandas as pd\n",
    "from pylab import *\n",
    "import glob\n",
    "import os\n",
    "\n",
    "from numpy import sqrt, pi, exp, linspace, loadtxt\n",
    "from lmfit import  Model, Parameter, Parameters\n",
    "\n",
    "import matplotlib.pyplot as plt\n",
    "\n",
    "%matplotlib inline"
   ]
  },
  {
   "cell_type": "code",
   "execution_count": 25,
   "metadata": {
    "ExecuteTime": {
     "end_time": "2017-12-16T22:58:05.055714Z",
     "start_time": "2017-12-16T22:58:05.032911Z"
    },
    "collapsed": true
   },
   "outputs": [],
   "source": [
    "#Default figure setting\n",
    "mpl.rcParams['svg.fonttype'] = 'none'\n",
    "mpl.rcParams[\"font.family\"] = \"sans-serif\"\n",
    "mpl.rcParams[\"font.size\"] = \"10\"\n",
    "mpl.rcParams['axes.linewidth'] = 0.5"
   ]
  },
  {
   "cell_type": "code",
   "execution_count": 27,
   "metadata": {
    "ExecuteTime": {
     "end_time": "2017-12-16T22:58:24.236465Z",
     "start_time": "2017-12-16T22:58:24.018437Z"
    }
   },
   "outputs": [
    {
     "data": {
      "image/png": "[encoded data removed]",
      "text/plain": [
       "<matplotlib.figure.Figure at 0x7f0b50ecf1d0>"
      ]
     },
     "metadata": {},
     "output_type": "display_data"
    }
   ],
   "source": [
    "fil = 'analysis/20150309_point_2_MCS.dat';\n",
    "df = pd.read_csv(fil, header=None, skiprows=1, sep ='       ', engine='python')\n",
    "plt.figure(figsize=(3,1.5))\n",
    "plot(df[0]-df[0][0], df[1], 'k',linewidth=0.5)\n",
    "xlim(3, 3.5)\n",
    "ylim(0, 100)\n",
    "xticks([ ]); yticks([ ])\n",
    "xlabel('time/s', fontsize=10)\n",
    "ylabel('counts/s', fontsize=10)\n",
    "savefig('analysis/20150309_point_2_MCS.svg', format='svg', dpi=300, transparent=True, frameon=False);"
   ]
  },
  {
   "cell_type": "code",
   "execution_count": 35,
   "metadata": {
    "ExecuteTime": {
     "end_time": "2017-12-16T23:04:12.886425Z",
     "start_time": "2017-12-16T23:04:12.403584Z"
    }
   },
   "outputs": [
    {
     "data": {
      "image/png": "[encoded data removed]",
      "text/plain": [
       "<matplotlib.figure.Figure at 0x7f0b54875ba8>"
      ]
     },
     "metadata": {},
     "output_type": "display_data"
    }
   ],
   "source": [
    "fil = 'analysis/gnr_100nMAT647Nnhs_surface_FCS1.dat';\n",
    "df_fcs = pd.read_csv(fil, header=None, skiprows=1, sep ='\\ ', engine='python')\n",
    "plt.figure(figsize=(3, 2))\n",
    "plot(df_fcs[0][5:], df_fcs[2][5:], 'k',linewidth=0.5)\n",
    "plt.grid(True); plt.grid(True, which='minor', lw=0.3)\n",
    "xscale('log')\n",
    "# xlabel('lag time[ms]', fontsize=10)\n",
    "# ylabel('G(t)-1', fontsize=10)\n",
    "# xticks([0.001, 1, 1000],fontsize=10)\n",
    "# yticks([0.5, 1],fontsize=10)\n",
    "xticks([ ]); yticks([ ])\n",
    "xlim(0.001, 500)\n",
    "tight_layout()\n",
    "savefig('analysis/gnr_100nMAT647Nnhs_surface_FCS1.svg', format='svg',dpi=300, transparent=True, frameon=False)"
   ]
  },
  {
   "cell_type": "code",
   "execution_count": 46,
   "metadata": {
    "ExecuteTime": {
     "end_time": "2017-12-16T23:13:40.873219Z",
     "start_time": "2017-12-16T23:13:40.737258Z"
    }
   },
   "outputs": [
    {
     "data": {
      "image/png": "[encoded data removed]",
      "text/plain": [
       "<matplotlib.figure.Figure at 0x7f0b50e00cc0>"
      ]
     },
     "metadata": {},
     "output_type": "display_data"
    }
   ],
   "source": [
    "fil = 'analysis/Point_5_blinking_bliching.dat';\n",
    "df = pd.read_csv(fil, header=None, skiprows=1, sep ='       ', engine='python')\n",
    "plt.figure(figsize=(3,2))\n",
    "plot(df[0]-df[0][0], df[1], 'k',linewidth=0.5)\n",
    "xlim(0, 8.5)\n",
    "ylim(0, 8)\n",
    "xticks([ ]); yticks([ ])\n",
    "xlabel('time/s', fontsize=10)\n",
    "ylabel('counts/s', fontsize=10)\n",
    "savefig('analysis/Point_5_blinking_bliching.svg', format='svg', dpi=300, transparent=True, frameon=False);"
   ]
  },
  {
   "cell_type": "code",
   "execution_count": null,
   "metadata": {
    "collapsed": true
   },
   "outputs": [],
   "source": []
  }
 ],
 "metadata": {
  "hide_input": false,
  "kernelspec": {
   "display_name": "Python 3",
   "language": "python",
   "name": "python3"
  },
  "language_info": {
   "codemirror_mode": {
    "name": "ipython",
    "version": 3
   },
   "file_extension": ".py",
   "mimetype": "text/x-python",
   "name": "python",
   "nbconvert_exporter": "python",
   "pygments_lexer": "ipython3",
   "version": "3.6.0"
  },
  "toc": {
   "colors": {
    "hover_highlight": "#DAA520",
    "navigate_num": "#000000",
    "navigate_text": "#333333",
    "running_highlight": "#FF0000",
    "selected_highlight": "#FFD700",
    "sidebar_border": "#EEEEEE",
    "wrapper_background": "#FFFFFF"
   },
   "moveMenuLeft": true,
   "nav_menu": {
    "height": "12px",
    "width": "252px"
   },
   "navigate_menu": true,
   "number_sections": true,
   "sideBar": true,
   "threshold": 4,
   "toc_cell": false,
   "toc_section_display": "block",
   "toc_window_display": false,
   "widenNotebook": false
  }
 },
 "nbformat": 4,
 "nbformat_minor": 2
}
